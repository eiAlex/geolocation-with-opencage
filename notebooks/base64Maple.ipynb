{
 "cells": [
  {
   "cell_type": "code",
   "execution_count": 2,
   "metadata": {
    "tags": []
   },
   "outputs": [],
   "source": [
    "from PIL import Image, ImageFilter\n",
    "from IPython.display import Image  as IPythonImage\n",
    "import base64\n",
    "import io\n",
    "import cv2\n",
    "import numpy as np\n",
    "import time\n",
    "import imageio"
   ]
  },
  {
   "cell_type": "code",
   "execution_count": 3,
   "metadata": {},
   "outputs": [],
   "source": [
    "image_data_arm = b'iVBORw0KGgoAAAANSUhEUgAAAAwAAAARCAYAAADpPU2iAAAAAXNSR0IArs4c6QAAAARnQU1BAACxjwv8YQUAAAAJcEhZcwAADsMAAA7DAcdvqGQAAACqSURBVDhPjZJREcQgDEQRh4WzUAu1cBZqAQtYqAUsYCGXDcmRfqSwMzsMZV+atCQWOa9FJROVjxhbdSxqhej+DteDvQblcICXrihwvULQAHtT3wLq81dNsNVtCBrQRmum2d7uPPAKmCEMbdYvp+cPaUhbkfAYnOoZAS78B05/Ex6awc5BWKrj6uQAkL/NQWsF1QWI3iAhhmS16jEAuRBucqYetONlAW9WSj+CuyTqN3dW+QAAAABJRU5ErkJggg=='\n",
    "\n",
    "image_data_body = b'iVBORw0KGgoAAAANSUhEUgAAABsAAAAgCAYAAADjaQM7AAAAAXNSR0IArs4c6QAAAARnQU1BAACxjwv8YQUAAAAJcEhZcwAADsMAAA7DAcdvqGQAAAGxSURBVEhLvZYBdcMwDESLpRRGYRRGYRRKYRRCoRRCIRRCYRQ83UlyZNdpusXevXcvrWPpR7bi9nJSyTxcKS1fKd3fhgI9eQ1zd5ECvhfzrDB4uhJq4NNKkj2AgtcA7QaTpLwSupZAuBNMk0syfn4GszmM+qNK0N5yjoE1qiJsojGPUS/IJ8cA2Yt3jknWR4ibsNcr0yB2V35C6XBZnvlTYa29yrau3N67XW37AVgApuWmV7/fBJlRnT0YkrakEz2ZAxl4kyf92GB18uj1rpUdVKeTHeTBtgdp0sDiXssEecz1ANYKlsbIzYExVFzP43io6tcwf8IaxnuWsJ7rlj17BoPKAIM4SKcokFfek4MXiXOcP+BxN0IZ0ABBuRp85ncAAVgNhIY6qCoqJzJHbUuHPZqtS6sxbyhGnFSRvPiOZXxcjVPah6Eyeyc5s5O0ChxPxVLiIMhnYzeowuB632ycYx2XVJvBEhZLydfAfpJ6AqNz68MBaO4qBUol2YRv1XNWZ5WwfwE6iDA50gbAPCGdu5O/iX1hW0fifYO9MwdUplXE5ZO/E9y7AacK5ElbFl0uP72tcGI3krr2AAAAAElFTkSuQmCC'"
   ]
  },
  {
   "cell_type": "code",
   "execution_count": 4,
   "metadata": {
    "tags": []
   },
   "outputs": [
    {
     "output_type": "stream",
     "name": "stdout",
     "text": "b'\\x89PNG\\r\\n\\x1a\\n\\x00\\x00\\x00\\rIHDR\\x00\\x00\\x00\\x0c\\x00\\x00\\x00\\x11\\x08\\x06\\x00\\x00\\x00\\xe9=M\\xa2\\x00\\x00\\x00\\x01sRGB\\x00\\xae\\xce\\x1c\\xe9\\x00\\x00\\x00\\x04gAMA\\x00\\x00\\xb1\\x8f\\x0b\\xfca\\x05\\x00\\x00\\x00\\tpHYs\\x00\\x00\\x0e\\xc3\\x00\\x00\\x0e\\xc3\\x01\\xc7o\\xa8d\\x00\\x00\\x00\\xaaIDAT8O\\x8d\\x92Q\\x11\\xc4 \\x0cD\\x11\\x87\\x85\\xb3P\\x0b\\xb5p\\x16j\\x01\\x0bX\\xa8\\x05,`!\\x97\\r\\xc9\\x91~\\xa4\\xb03;\\x0ce_\\x9a\\xb4$\\x169\\xafE%\\x13\\x95\\x8f\\x18[u,j\\x85\\xe8\\xfe\\x0e\\xd7\\x83\\xbd\\x06\\xe5p\\x80\\x97\\xae(p\\xbdB\\xd0\\x00{S\\xdf\\x02\\xea\\xf3WM\\xb0\\xd5m\\x08\\x1a\\xd0Fk\\xa6\\xd9\\xde\\xee<\\xf0\\n\\x98!\\x0cm\\xd6/\\xa7\\xe7\\x0fiH[\\x91\\xf0\\x18\\x9c\\xea\\x19\\x01.\\xfc\\x07N\\x7f\\x13\\x1e\\x9a\\xc1\\xceAX\\xaa\\xe3\\xea\\xe4\\x00\\x90\\xbf\\xcdAk\\x05\\xd5\\x05\\x88\\xde !\\x86d\\xb5\\xea1\\x00\\xb9\\x10nr\\xa6\\x1e\\xb4\\xe3e\\x01oVJ?\\x82\\xbb$\\xea7wV\\xf9\\x00\\x00\\x00\\x00IEND\\xaeB`\\x82'\nb'\\x89PNG\\r\\n\\x1a\\n\\x00\\x00\\x00\\rIHDR\\x00\\x00\\x00\\x1b\\x00\\x00\\x00 \\x08\\x06\\x00\\x00\\x00\\xe3i\\x03;\\x00\\x00\\x00\\x01sRGB\\x00\\xae\\xce\\x1c\\xe9\\x00\\x00\\x00\\x04gAMA\\x00\\x00\\xb1\\x8f\\x0b\\xfca\\x05\\x00\\x00\\x00\\tpHYs\\x00\\x00\\x0e\\xc3\\x00\\x00\\x0e\\xc3\\x01\\xc7o\\xa8d\\x00\\x00\\x01\\xb1IDATHK\\xbd\\x96\\x01u\\xc30\\x0cD\\x8b\\xa5\\x14Fa\\x14Fa\\x14Ja\\x14B\\xa1\\x14B!\\x14Ba\\x14<\\xddIrd\\xd7i\\xba\\xc5\\xde\\xbdw/\\xadc\\xe9G\\xb6\\xe2\\xf6rR\\xc9<\\\\)-_)\\xdd\\xdf\\x86\\x02=y\\rsw\\x91\\x02\\xbe\\x17\\xf3\\xac0x\\xba\\x12j\\xe0\\xd3J\\x92=\\x80\\x82\\xd7\\x00\\xed\\x06\\x93\\xa4\\xbc\\x12\\xba\\x96@\\xb8\\x13L\\x93K2~~\\x06\\xb39\\x8c\\xfa\\xa3J\\xd0\\xder\\x8e\\x815\\xaa\"l\\xa21\\x8fQ/\\xc8\\'\\xc7\\x00\\xd9\\x8bw\\x8eI\\xd6G\\x88\\x9b\\xb0\\xd7+\\xd3 vW~B\\xe9pY\\x9e\\xf9Sa\\xad\\xbd\\xca\\xb6\\xae\\xdc\\xde\\xbb]m\\xfb\\x01X\\x00\\xa6\\xe5\\xa6W\\xbf\\xdf\\x04\\x99Q\\x9d=\\x18\\x92\\xb6\\xa4\\x13=\\x99\\x03\\x19x\\x93\\'\\xfd\\xd8`u\\xf2\\xe8\\xf5\\xae\\x95\\x1dT\\xa7\\x93\\x1d\\xe4\\xc1\\xb6\\x07i\\xd2\\xc0\\xe2^\\xcb\\x04y\\xcc\\xf5\\x00\\xd6\\n\\x96\\xc6\\xc8\\xcd\\x811T\\\\\\xcf\\xe3x\\xa8\\xea\\xd70\\x7f\\xc2\\x1a\\xc6{\\x96\\xb0\\x9e\\xeb\\x96={\\x06\\x83\\xca\\x00\\x838H\\xa7(\\x90W\\xde\\x93\\x83\\x17\\x89s\\x9c?\\xe0q7B\\x19\\xd0\\x00A\\xb9\\x1a|\\xe6w\\x00\\x01X\\r\\x84\\x86:\\xa8**\\'2GmK\\x87=\\x9a\\xadK\\xab1o(F\\x9cT\\x91\\xbc\\xf8\\x8ee|\\\\\\x8dS\\xda\\x87\\xa12{\\'9\\xb3\\x93\\xb4\\n\\x1cO\\xc5R\\xe2 \\xc8gc7\\xa8\\xc2\\xe0z\\xdfl\\x9cc\\x1d\\x97T\\x9b\\xc1\\x12\\x16K\\xc9\\xd7\\xc0~\\x92z\\x02\\xa3s\\xeb\\xc3\\x01h\\xee*\\x05J%\\xd9\\x84o\\xd5sVg\\x95\\xb0\\x7f\\x01:\\x8809\\xd2\\x06\\xc0<!\\x9d\\xbb\\x93\\xbf\\x89}a[G\\xe2}\\x83\\xbd3\\x07T\\xa6U\\xc4\\xe5\\x93\\xbf\\x13\\xdc\\xbb\\x01\\xa7\\n\\xe4I[\\x16].?\\xbd\\xadpb7\\x92\\xba\\xf6\\x00\\x00\\x00\\x00IEND\\xaeB`\\x82'\n"
    },
    {
     "output_type": "execute_result",
     "data": {
      "image/png": "[encoded data removed]",
      "text/plain": "<IPython.core.display.Image object>"
     },
     "metadata": {},
     "execution_count": 4
    }
   ],
   "source": [
    "im_arm = base64.decodebytes(image_data_arm)\n",
    "im_body = base64.decodebytes(image_data_body)\n",
    "img = Image.open(io.BytesIO(im_body))\n",
    "print(im_arm)\n",
    "print(im_body)\n",
    "\n",
    "IPythonImage(im_arm)\n",
    "IPythonImage(im_body)"
   ]
  },
  {
   "cell_type": "code",
   "execution_count": 5,
   "metadata": {},
   "outputs": [
    {
     "output_type": "execute_result",
     "data": {
      "image/png": "[encoded data removed]",
      "text/plain": "<IPython.core.display.Image object>"
     },
     "metadata": {},
     "execution_count": 5
    }
   ],
   "source": [
    "IPythonImage(im_body)"
   ]
  },
  {
   "cell_type": "code",
   "execution_count": 24,
   "metadata": {
    "tags": []
   },
   "outputs": [],
   "source": [
    "imgs = [open ('/data/' + f + '.png', 'rb').read() for f in ['combined0', 'combined0','combined0','combined1','combined1', 'combined2','combined2','combined1','combined1']]\n",
    "imgs1 = []\n",
    "#print(imgs)\n",
    "#IPythonImage(imgs)\n",
    "for filename in imgs:\n",
    "    imgs1.append(imageio.imread(filename))\n",
    "imageio.mimsave('/data/teste.gif',imgs1)    \n",
    "\n"
   ]
  },
  {
   "cell_type": "code",
   "execution_count": null,
   "metadata": {},
   "outputs": [],
   "source": [
    "    @staticmethod\n",
    "    def frames():\n",
    "        while True:\n",
    "            time.sleep(1)\n",
    "            yield Camera.imgs[int(time.time()) % 3]"
   ]
  },
  {
   "cell_type": "code",
   "execution_count": 76,
   "metadata": {
    "tags": []
   },
   "outputs": [
    {
     "output_type": "stream",
     "name": "stdout",
     "text": "Requirement already satisfied: imageio in /opt/conda/lib/python3.8/site-packages (2.9.0)\nRequirement already satisfied: pillow in /opt/conda/lib/python3.8/site-packages (from imageio) (7.2.0)\nRequirement already satisfied: numpy in /opt/conda/lib/python3.8/site-packages (from imageio) (1.19.1)\nNote: you may need to restart the kernel to use updated packages.\n"
    }
   ],
   "source": [
    "\n"
   ]
  },
  {
   "cell_type": "code",
   "execution_count": null,
   "metadata": {},
   "outputs": [],
   "source": []
  }
 ],
 "metadata": {
  "language_info": {
   "codemirror_mode": {
    "name": "ipython",
    "version": 3
   },
   "file_extension": ".py",
   "mimetype": "text/x-python",
   "name": "python",
   "nbconvert_exporter": "python",
   "pygments_lexer": "ipython3",
   "version": "3.8.3-final"
  },
  "orig_nbformat": 2,
  "kernelspec": {
   "name": "python3",
   "display_name": "Python 3"
  }
 },
 "nbformat": 4,
 "nbformat_minor": 2
}