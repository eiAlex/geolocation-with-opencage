{
 "cells": [
  {
   "cell_type": "markdown",
   "metadata": {},
   "source": [
    "# Geocodificação e geocodificação reversa\n",
    "## Consumindo API Geolocalização opencagedata "
   ]
  },
  {
   "cell_type": "code",
   "execution_count": 1,
   "metadata": {},
   "outputs": [
    {
     "output_type": "execute_result",
     "data": {
      "text/plain": "<IPython.core.display.HTML object>",
      "text/html": "<script>\ncode_show=true; \nfunction code_toggle() {\n if (code_show){\n $('div.input').hide();\n } else {\n $('div.input').show();\n }\n code_show = !code_show\n} \n$( document ).ready(code_toggle);\n</script>\n<form action=\"javascript:code_toggle()\"><input type=\"submit\" value=\"Click here to toggle on/off the raw code.\"></form>"
     },
     "metadata": {},
     "execution_count": 1
    }
   ],
   "source": [
    "#Script para realizar a ocultação do codigo nas celulas\n",
    "from IPython.display import HTML\n",
    "\n",
    "HTML('''<script>\n",
    "code_show=true; \n",
    "function code_toggle() {\n",
    " if (code_show){\n",
    " $('div.input').hide();\n",
    " } else {\n",
    " $('div.input').show();\n",
    " }\n",
    " code_show = !code_show\n",
    "} \n",
    "$( document ).ready(code_toggle);\n",
    "</script>\n",
    "<form action=\"javascript:code_toggle()\"><input type=\"submit\" value=\"Click here to toggle on/off the raw code.\"></form>''')\n"
   ]
  },
  {
   "cell_type": "code",
   "execution_count": 2,
   "metadata": {},
   "outputs": [],
   "source": [
    "#Dependnecias do projeto\n",
    "import yaml\n",
    "import json\n",
    "import requests\n",
    "import os, sys\n",
    "import matplotlib\n",
    "import numpy as np\n"
   ]
  },
  {
   "cell_type": "code",
   "execution_count": 3,
   "metadata": {
    "collapsed": true
   },
   "outputs": [],
   "source": [
    "from matplotlib.patches import Circle, Wedge, Rectangle\n",
    "from matplotlib import cm\n",
    "from matplotlib import pyplot as plt\n",
    "from opencage.geocoder import OpenCageGeocode\n",
    "from pprint import pprint"
   ]
  },
  {
   "cell_type": "code",
   "execution_count": 4,
   "metadata": {},
   "outputs": [],
   "source": [
    "#Realiza a carga do arquivo de configurações que possui a chave da API,não dispponivel no repositorio publico\n",
    "'''Ex: \n",
    "key: API-key-S3cre#tA63'''\n",
    "\n",
    "with open(\"/opt/config.yaml\", \"r\") as s:\n",
    "    y = yaml.load(s, Loader=yaml.Loader)\n",
    "\n",
    "    "
   ]
  },
  {
   "cell_type": "code",
   "execution_count": 5,
   "metadata": {},
   "outputs": [],
   "source": [
    "#Register API\n",
    "\n",
    "key = y[\"key\"]\n",
    "geocoder = OpenCageGeocode(key)\n",
    "\n"
   ]
  },
  {
   "cell_type": "markdown",
   "metadata": {},
   "source": [
    "### Ecemplo de saida de dados API"
   ]
  },
  {
   "cell_type": "code",
   "execution_count": 6,
   "metadata": {
    "tags": []
   },
   "outputs": [
    {
     "output_type": "stream",
     "name": "stdout",
     "text": "[{'bounds': {'northeast': {'lat': -19.4347831, 'lng': -44.2071165},\n             'southwest': {'lat': -19.4370706, 'lng': -44.2080792}},\n  'components': {'ISO_3166-1_alpha-2': 'BR',\n                 'ISO_3166-1_alpha-3': 'BRA',\n                 '_category': 'road',\n                 '_type': 'road',\n                 'city': 'Sete Lagoas',\n                 'continent': 'South America',\n                 'country': 'Brazil',\n                 'country_code': 'br',\n                 'county': 'Microrregião Sete Lagoas',\n                 'postcode': '35701-618',\n                 'road': 'Rua Durval Moreira de Oliveira',\n                 'road_type': 'residential',\n                 'state': 'Minas Gerais',\n                 'state_code': 'MG',\n                 'state_district': 'Região Geográfica Intermediária de Belo '\n                                   'Horizonte',\n                 'suburb': 'Tamanduá'},\n  'confidence': 9,\n  'formatted': 'Rua Durval Moreira de Oliveira, Tamanduá, Sete Lagoas - MG, '\n               '35701-618, Brazil',\n  'geometry': {'lat': -19.4356557, 'lng': -44.207712}}]\n"
    }
   ],
   "source": [
    "#-19.435657 -44.207715\n",
    "#pretty = '1', no_annotations='1' Argumentos opcionais\n",
    "\n",
    "results = geocoder.reverse_geocode(-19.435657, -44.207715,pretty = '1', no_annotations='1')\n",
    "pprint(results)\n"
   ]
  },
  {
   "cell_type": "markdown",
   "metadata": {},
   "source": [
    "### Saída de dados de exemplo."
   ]
  },
  {
   "cell_type": "code",
   "execution_count": 17,
   "metadata": {
    "tags": []
   },
   "outputs": [
    {
     "output_type": "stream",
     "name": "stdout",
     "text": "<class 'list'>\nRua Durval Moreira de Oliveira, Tamanduá, Sete Lagoas - MG, 35701-618, Brazil\n{'lat': -19.4356557, 'lng': -44.207712}\n"
    }
   ],
   "source": [
    "#dados da list\n",
    "print(type(results))\n",
    "print(results[0]['formatted'])\n",
    "print(results[0]['geometry'])"
   ]
  },
  {
   "cell_type": "code",
   "execution_count": 7,
   "metadata": {
    "tags": []
   },
   "outputs": [
    {
     "output_type": "stream",
     "name": "stdout",
     "text": "{'limit': 2500, 'remaining': 2498, 'reset': 1597968000}\n"
    }
   ],
   "source": [
    "#rertorna a quantide desponivel de utilização da API \n",
    "response = requests.get(\"https://api.opencagedata.com/geocode/v1/json?key=80f57f9380ea40f3897eaf54857f8cd4\")\n",
    "\n",
    "result = json.loads(response.text)\n",
    "\n",
    "print(result[\"rate\"])"
   ]
  },
  {
   "cell_type": "code",
   "execution_count": 8,
   "metadata": {},
   "outputs": [],
   "source": [
    "#neste bloco onde é criado um indicador de consumo para  a API\n",
    "\n",
    "def degree_range(n): \n",
    "    start = np.linspace(0,180,n+1, endpoint=True)[0:-1]\n",
    "    end = np.linspace(0,180,n+1, endpoint=True)[1::]\n",
    "    mid_points = start + ((end-start)/2.)\n",
    "    return np.c_[start, end], mid_points\n",
    "\n",
    "def rot_text(ang): \n",
    "    rotation = np.degrees(np.radians(ang) * np.pi / np.pi - np.radians(90))\n",
    "    return rotation\n"
   ]
  },
  {
   "cell_type": "code",
   "execution_count": 9,
   "metadata": {},
   "outputs": [],
   "source": [
    "#desenho do plot de gauge\n",
    "\n",
    "def gauge(labels=['LOW','MEDIUM','HIGH','VERY HIGH','EXTREME'], \\\n",
    "          colors='jet_r', arrow=1, title='', fname=False): \n",
    "    \n",
    "    \"\"\"\n",
    "    some sanity checks first\n",
    "    \n",
    "    \"\"\"\n",
    "    \n",
    "    N = len(labels)\n",
    "    \n",
    "    if arrow > N: \n",
    "        raise Exception(\"\\n\\nThe category ({}) is greated than \\\n",
    "        the length\\nof the labels ({})\".format(arrow, N))\n",
    " \n",
    "    \n",
    "    \"\"\"\n",
    "    if colors is a string, we assume it's a matplotlib colormap\n",
    "    and we discretize in N discrete colors \n",
    "    \"\"\"\n",
    "    \n",
    "    if isinstance(colors, str):\n",
    "        cmap = cm.get_cmap(colors, N)\n",
    "        cmap = cmap(np.arange(N))\n",
    "        colors = cmap[::-1,:].tolist()\n",
    "    if isinstance(colors, list): \n",
    "        if len(colors) == N:\n",
    "            colors = colors[::-1]\n",
    "        else: \n",
    "            raise Exception(\"\\n\\nnumber of colors {} not equal \\\n",
    "            to number of categories{}\\n\".format(len(colors), N))\n",
    "\n",
    "    \"\"\"\n",
    "    begins the plotting\n",
    "    \"\"\"\n",
    "    \n",
    "    fig, ax = plt.subplots()\n",
    "\n",
    "    ang_range, mid_points = degree_range(N)\n",
    "\n",
    "    labels = labels[::-1]\n",
    "    \n",
    "    \"\"\"\n",
    "    plots the sectors and the arcs\n",
    "    \"\"\"\n",
    "    patches = []\n",
    "    for ang, c in zip(ang_range, colors): \n",
    "        # sectors\n",
    "        patches.append(Wedge((0.,0.), .4, *ang, facecolor='w', lw=2))\n",
    "        # arcs\n",
    "        patches.append(Wedge((0.,0.), .4, *ang, width=0.10, facecolor=c, lw=2, alpha=0.5))\n",
    "    \n",
    "    [ax.add_patch(p) for p in patches]\n",
    "\n",
    "    \n",
    "    \"\"\"\n",
    "    set the labels (e.g. 'LOW','MEDIUM',...)\n",
    "    \"\"\"\n",
    "\n",
    "    for mid, lab in zip(mid_points, labels): \n",
    "\n",
    "        ax.text(0.35 * np.cos(np.radians(mid)), 0.35 * np.sin(np.radians(mid)), lab, \\\n",
    "            horizontalalignment='center', verticalalignment='center', fontsize=14, \\\n",
    "            fontweight='bold', rotation = rot_text(mid))\n",
    "\n",
    "    \"\"\"\n",
    "    set the bottom banner and the title\n",
    "    \"\"\"\n",
    "    r = Rectangle((-0.4,-0.1),0.8,0.1, facecolor='w', lw=2)\n",
    "    ax.add_patch(r)\n",
    "    \n",
    "    ax.text(0, -0.05, title, horizontalalignment='center', \\\n",
    "         verticalalignment='center', fontsize=22, fontweight='bold')\n",
    "\n",
    "    \"\"\"\n",
    "    plots the arrow now\n",
    "    \"\"\"\n",
    "    \n",
    "    pos = mid_points[abs(arrow - N)]\n",
    "    \n",
    "    ax.arrow(0, 0, 0.225 * np.cos(np.radians(pos)), 0.225 * np.sin(np.radians(pos)), \\\n",
    "                 width=0.04, head_width=0.09, head_length=0.1, fc='k', ec='k')\n",
    "    \n",
    "    ax.add_patch(Circle((0, 0), radius=0.02, facecolor='k'))\n",
    "    ax.add_patch(Circle((0, 0), radius=0.01, facecolor='w', zorder=11))\n",
    "\n",
    "    \"\"\"\n",
    "    removes frame and ticks, and makes axis equal and tight\n",
    "    \"\"\"\n",
    "    \n",
    "    ax.set_frame_on(False)\n",
    "    ax.axes.set_xticks([])\n",
    "    ax.axes.set_yticks([])\n",
    "    ax.axis('equal')\n",
    "    plt.tight_layout()\n",
    "    if fname:\n",
    "        fig.savefig(fname, dpi=200)"
   ]
  },
  {
   "cell_type": "code",
   "execution_count": 10,
   "metadata": {},
   "outputs": [],
   "source": [
    "#condicional para a flecha \n",
    "result_arrow = (result[\"rate\"][\"limit\"]) - (result[\"rate\"][\"remaining\"])\n",
    "def to_arrow():\n",
    "    #result_arrow = 3550\n",
    "    if result_arrow <= 500:\n",
    "        return 1\n",
    "    elif result_arrow <= 1000:\n",
    "        return 2\n",
    "    elif result_arrow <= 1500:\n",
    "        return 3\n",
    "    elif result_arrow <= 2000:\n",
    "        return 4\n",
    "    else:\n",
    "        return 5"
   ]
  },
  {
   "cell_type": "markdown",
   "metadata": {},
   "source": [
    "### Contador de chamadas  para a API OpenCage."
   ]
  },
  {
   "cell_type": "code",
   "execution_count": 11,
   "metadata": {},
   "outputs": [
    {
     "output_type": "display_data",
     "data": {
      "text/plain": "<Figure size 432x288 with 1 Axes>",
      "image/svg+xml": "<?xml version=\"1.0\" encoding=\"utf-8\" standalone=\"no\"?>\n<!DOCTYPE svg PUBLIC \"-//W3C//DTD SVG 1.1//EN\"\n  \"http://www.w3.org/Graphics/SVG/1.1/DTD/svg11.dtd\">\n<!-- Created with matplotlib (https://matplotlib.org/) -->\n<svg height=\"280.8pt\" version=\"1.1\" viewBox=\"0 0 424.8 280.8\" width=\"424.8pt\" xmlns=\"http://www.w3.org/2000/svg\" xmlns:xlink=\"http://www.w3.org/1999/xlink\">\n <defs>\n  <style type=\"text/css\">\n*{stroke-linecap:butt;stroke-linejoin:round;}\n  </style>\n </defs>\n <g id=\"figure_1\">\n  <g id=\"patch_1\">\n   <path d=\"M 0 280.8 \nL 424.8 280.8 \nL 424.8 0 \nL 0 0 \nz\n\" style=\"fill:none;\"/>\n  </g>\n  <g id=\"axes_1\">\n   <g id=\"patch_2\">\n    <path clip-path=\"url(#pb4c4a29d6a)\" d=\"M 406.246804 213.054545 \nC 406.246804 192.723943 403.045054 172.51946 396.759266 153.183907 \nC 390.473477 133.848355 381.181638 115.621628 369.225358 99.173825 \nL 212.4 213.054545 \nL 406.246804 213.054545 \nz\n\" style=\"fill:#ffffff;\"/>\n   </g>\n   <g id=\"patch_3\">\n    <path clip-path=\"url(#pb4c4a29d6a)\" d=\"M 406.246804 213.054545 \nC 406.246804 192.723943 403.045054 172.51946 396.759266 153.183907 \nC 390.473477 133.848355 381.181638 115.621628 369.225358 99.173825 \nL 330.019019 127.644005 \nC 338.986229 139.979857 345.955108 153.649903 350.669449 168.151567 \nC 355.38379 182.653231 357.785103 197.806593 357.785103 213.054545 \nL 406.246804 213.054545 \nz\n\" style=\"fill:#ed1c24;opacity:0.5;\"/>\n   </g>\n   <g id=\"patch_4\">\n    <path clip-path=\"url(#pb4c4a29d6a)\" d=\"M 369.225358 99.173825 \nC 357.269079 82.726021 342.796699 68.261209 326.340292 56.31118 \nC 309.883885 44.361152 291.647623 35.07417 272.301957 28.791668 \nL 212.4 213.054545 \nL 369.225358 99.173825 \nz\n\" style=\"fill:#ffffff;\"/>\n   </g>\n   <g id=\"patch_5\">\n    <path clip-path=\"url(#pb4c4a29d6a)\" d=\"M 369.225358 99.173825 \nC 357.269079 82.726021 342.796699 68.261209 326.340292 56.31118 \nC 309.883885 44.361152 291.647623 35.07417 272.301957 28.791668 \nL 257.326467 74.857388 \nC 271.835718 79.569264 285.512914 86.5345 297.855219 95.497021 \nC 310.197525 104.459543 321.051809 115.308152 330.019019 127.644005 \nL 369.225358 99.173825 \nz\n\" style=\"fill:#ed5b1d;opacity:0.5;\"/>\n   </g>\n   <g id=\"patch_6\">\n    <path clip-path=\"url(#pb4c4a29d6a)\" d=\"M 272.301957 28.791668 \nC 252.95629 22.509167 232.741238 19.309091 212.4 19.309091 \nC 192.058762 19.309091 171.84371 22.509167 152.498043 28.791668 \nL 212.4 213.054545 \nL 272.301957 28.791668 \nz\n\" style=\"fill:#ffffff;\"/>\n   </g>\n   <g id=\"patch_7\">\n    <path clip-path=\"url(#pb4c4a29d6a)\" d=\"M 272.301957 28.791668 \nC 252.95629 22.509167 232.741238 19.309091 212.4 19.309091 \nC 192.058762 19.309091 171.84371 22.509167 152.498043 28.791668 \nL 167.473533 74.857388 \nC 181.982783 70.145511 197.144072 67.745455 212.4 67.745455 \nC 227.655928 67.745455 242.817217 70.145511 257.326467 74.857388 \nL 272.301957 28.791668 \nz\n\" style=\"fill:#ffcc00;opacity:0.5;\"/>\n   </g>\n   <g id=\"patch_8\">\n    <path clip-path=\"url(#pb4c4a29d6a)\" d=\"M 152.498043 28.791668 \nC 133.152377 35.07417 114.916115 44.361152 98.459708 56.31118 \nC 82.003301 68.261209 67.530921 82.726021 55.574642 99.173825 \nL 212.4 213.054545 \nL 152.498043 28.791668 \nz\n\" style=\"fill:#ffffff;\"/>\n   </g>\n   <g id=\"patch_9\">\n    <path clip-path=\"url(#pb4c4a29d6a)\" d=\"M 152.498043 28.791668 \nC 133.152377 35.07417 114.916115 44.361152 98.459708 56.31118 \nC 82.003301 68.261209 67.530921 82.726021 55.574642 99.173825 \nL 94.780981 127.644005 \nC 103.748191 115.308152 114.602475 104.459543 126.944781 95.497021 \nC 139.287086 86.5345 152.964282 79.569264 167.473533 74.857388 \nL 152.498043 28.791668 \nz\n\" style=\"fill:#0063bf;opacity:0.5;\"/>\n   </g>\n   <g id=\"patch_10\">\n    <path clip-path=\"url(#pb4c4a29d6a)\" d=\"M 55.574642 99.173825 \nC 43.618362 115.621628 34.326523 133.848355 28.040734 153.183907 \nC 21.754946 172.51946 18.553196 192.723943 18.553196 213.054545 \nL 212.4 213.054545 \nL 55.574642 99.173825 \nz\n\" style=\"fill:#ffffff;\"/>\n   </g>\n   <g id=\"patch_11\">\n    <path clip-path=\"url(#pb4c4a29d6a)\" d=\"M 55.574642 99.173825 \nC 43.618362 115.621628 34.326523 133.848355 28.040734 153.183907 \nC 21.754946 172.51946 18.553196 192.723943 18.553196 213.054545 \nL 67.014897 213.054545 \nC 67.014897 197.806593 69.41621 182.653231 74.130551 168.151567 \nC 78.844892 153.649903 85.813771 139.979857 94.780981 127.644005 \nL 55.574642 99.173825 \nz\n\" style=\"fill:#007a00;opacity:0.5;\"/>\n   </g>\n   <g id=\"patch_12\">\n    <path clip-path=\"url(#pb4c4a29d6a)\" d=\"M 18.553196 261.490909 \nL 406.246804 261.490909 \nL 406.246804 213.054545 \nL 18.553196 213.054545 \nz\n\" style=\"fill:#ffffff;\"/>\n   </g>\n   <g id=\"patch_13\">\n    <path clip-path=\"url(#pb4c4a29d6a)\" d=\"M 212.4 222.741818 \nC 214.970439 222.741818 217.435945 221.721106 219.253519 219.904482 \nC 221.071094 218.087857 222.09234 215.62364 222.09234 213.054545 \nC 222.09234 210.485451 221.071094 208.021234 219.253519 206.204609 \nC 217.435945 204.387985 214.970439 203.367273 212.4 203.367273 \nC 209.829561 203.367273 207.364055 204.387985 205.546481 206.204609 \nC 203.728906 208.021234 202.70766 210.485451 202.70766 213.054545 \nC 202.70766 215.62364 203.728906 218.087857 205.546481 219.904482 \nC 207.364055 221.721106 209.829561 222.741818 212.4 222.741818 \nz\n\"/>\n   </g>\n   <g id=\"patch_14\">\n    <path clip-path=\"url(#pb4c4a29d6a)\" d=\"M 62.608097 164.409652 \nL 115.436883 158.647738 \nL 111.693011 170.164168 \nL 215.395098 203.841402 \nL 209.404902 222.267689 \nL 105.702815 188.590455 \nL 101.958943 200.106885 \nz\n\" style=\"stroke:#000000;stroke-linejoin:miter;\"/>\n   </g>\n   <g id=\"matplotlib.axis_1\"/>\n   <g id=\"matplotlib.axis_2\"/>\n   <g id=\"text_1\">\n    <!-- 2500 -->\n    <defs>\n     <path d=\"M 28.8125 13.8125 \nL 60.890625 13.8125 \nL 60.890625 0 \nL 7.90625 0 \nL 7.90625 13.8125 \nL 34.515625 37.3125 \nQ 38.09375 40.53125 39.796875 43.609375 \nQ 41.5 46.6875 41.5 50 \nQ 41.5 55.125 38.0625 58.25 \nQ 34.625 61.375 28.90625 61.375 \nQ 24.515625 61.375 19.28125 59.5 \nQ 14.0625 57.625 8.109375 53.90625 \nL 8.109375 69.921875 \nQ 14.453125 72.015625 20.65625 73.109375 \nQ 26.859375 74.21875 32.8125 74.21875 \nQ 45.90625 74.21875 53.15625 68.453125 \nQ 60.40625 62.703125 60.40625 52.390625 \nQ 60.40625 46.4375 57.328125 41.28125 \nQ 54.25 36.140625 44.390625 27.484375 \nz\n\" id=\"DejaVuSans-Bold-50\"/>\n     <path d=\"M 10.59375 72.90625 \nL 57.328125 72.90625 \nL 57.328125 59.078125 \nL 25.59375 59.078125 \nL 25.59375 47.796875 \nQ 27.734375 48.390625 29.90625 48.703125 \nQ 32.078125 49.03125 34.421875 49.03125 \nQ 47.75 49.03125 55.171875 42.359375 \nQ 62.59375 35.6875 62.59375 23.78125 \nQ 62.59375 11.96875 54.515625 5.265625 \nQ 46.4375 -1.421875 32.078125 -1.421875 \nQ 25.875 -1.421875 19.796875 -0.21875 \nQ 13.71875 0.984375 7.71875 3.421875 \nL 7.71875 18.21875 \nQ 13.671875 14.796875 19.015625 13.078125 \nQ 24.359375 11.375 29.109375 11.375 \nQ 35.9375 11.375 39.859375 14.71875 \nQ 43.796875 18.0625 43.796875 23.78125 \nQ 43.796875 29.546875 39.859375 32.859375 \nQ 35.9375 36.1875 29.109375 36.1875 \nQ 25.046875 36.1875 20.453125 35.125 \nQ 15.875 34.078125 10.59375 31.890625 \nz\n\" id=\"DejaVuSans-Bold-53\"/>\n     <path d=\"M 46 36.53125 \nQ 46 50.203125 43.4375 55.78125 \nQ 40.875 61.375 34.8125 61.375 \nQ 28.765625 61.375 26.171875 55.78125 \nQ 23.578125 50.203125 23.578125 36.53125 \nQ 23.578125 22.703125 26.171875 17.03125 \nQ 28.765625 11.375 34.8125 11.375 \nQ 40.828125 11.375 43.40625 17.03125 \nQ 46 22.703125 46 36.53125 \nz\nM 64.796875 36.375 \nQ 64.796875 18.265625 56.984375 8.421875 \nQ 49.171875 -1.421875 34.8125 -1.421875 \nQ 20.40625 -1.421875 12.59375 8.421875 \nQ 4.78125 18.265625 4.78125 36.375 \nQ 4.78125 54.546875 12.59375 64.375 \nQ 20.40625 74.21875 34.8125 74.21875 \nQ 49.171875 74.21875 56.984375 64.375 \nQ 64.796875 54.546875 64.796875 36.375 \nz\n\" id=\"DejaVuSans-Bold-48\"/>\n    </defs>\n    <g transform=\"translate(364.020077 143.333144)rotate(-288)scale(0.14 -0.14)\">\n     <use xlink:href=\"#DejaVuSans-Bold-50\"/>\n     <use x=\"69.580078\" xlink:href=\"#DejaVuSans-Bold-53\"/>\n     <use x=\"139.160156\" xlink:href=\"#DejaVuSans-Bold-48\"/>\n     <use x=\"208.740234\" xlink:href=\"#DejaVuSans-Bold-48\"/>\n    </g>\n   </g>\n   <g id=\"text_2\">\n    <!-- 2000 -->\n    <g transform=\"translate(294.0659 67.578276)rotate(-324)scale(0.14 -0.14)\">\n     <use xlink:href=\"#DejaVuSans-Bold-50\"/>\n     <use x=\"69.580078\" xlink:href=\"#DejaVuSans-Bold-48\"/>\n     <use x=\"139.160156\" xlink:href=\"#DejaVuSans-Bold-48\"/>\n     <use x=\"208.740234\" xlink:href=\"#DejaVuSans-Bold-48\"/>\n    </g>\n   </g>\n   <g id=\"text_3\">\n    <!-- 1500 -->\n    <defs>\n     <path d=\"M 11.71875 12.984375 \nL 28.328125 12.984375 \nL 28.328125 60.109375 \nL 11.28125 56.59375 \nL 11.28125 69.390625 \nL 28.21875 72.90625 \nL 46.09375 72.90625 \nL 46.09375 12.984375 \nL 62.703125 12.984375 \nL 62.703125 0 \nL 11.71875 0 \nz\n\" id=\"DejaVuSans-Bold-49\"/>\n    </defs>\n    <g transform=\"translate(192.918125 47.390398)scale(0.14 -0.14)\">\n     <use xlink:href=\"#DejaVuSans-Bold-49\"/>\n     <use x=\"69.580078\" xlink:href=\"#DejaVuSans-Bold-53\"/>\n     <use x=\"139.160156\" xlink:href=\"#DejaVuSans-Bold-48\"/>\n     <use x=\"208.740234\" xlink:href=\"#DejaVuSans-Bold-48\"/>\n    </g>\n   </g>\n   <g id=\"text_4\">\n    <!-- 1000 -->\n    <g transform=\"translate(99.211764 90.480593)rotate(-36)scale(0.14 -0.14)\">\n     <use xlink:href=\"#DejaVuSans-Bold-49\"/>\n     <use x=\"69.580078\" xlink:href=\"#DejaVuSans-Bold-48\"/>\n     <use x=\"139.160156\" xlink:href=\"#DejaVuSans-Bold-48\"/>\n     <use x=\"208.740234\" xlink:href=\"#DejaVuSans-Bold-48\"/>\n    </g>\n   </g>\n   <g id=\"text_5\">\n    <!-- 500 -->\n    <g transform=\"translate(50.24452 175.757782)rotate(-72)scale(0.14 -0.14)\">\n     <use xlink:href=\"#DejaVuSans-Bold-53\"/>\n     <use x=\"69.580078\" xlink:href=\"#DejaVuSans-Bold-48\"/>\n     <use x=\"139.160156\" xlink:href=\"#DejaVuSans-Bold-48\"/>\n    </g>\n   </g>\n   <g id=\"text_6\">\n    <!-- Qtd. de chamadas API: 2 -->\n    <defs>\n     <path d=\"M 44.484375 -1.3125 \nL 43.015625 -1.3125 \nQ 25 -1.3125 14.984375 8.640625 \nQ 4.984375 18.609375 4.984375 36.375 \nQ 4.984375 54.109375 14.96875 64.15625 \nQ 24.953125 74.21875 42.484375 74.21875 \nQ 60.203125 74.21875 70.09375 64.25 \nQ 79.984375 54.296875 79.984375 36.375 \nQ 79.984375 24.078125 74.734375 15.1875 \nQ 69.484375 6.296875 59.625 1.8125 \nL 74.3125 -14.59375 \nL 56.390625 -14.59375 \nz\nM 42.484375 60.59375 \nQ 33.890625 60.59375 29.15625 54.25 \nQ 24.421875 47.90625 24.421875 36.375 \nQ 24.421875 24.65625 29.046875 18.421875 \nQ 33.6875 12.203125 42.484375 12.203125 \nQ 51.125 12.203125 55.859375 18.546875 \nQ 60.59375 24.90625 60.59375 36.375 \nQ 60.59375 47.90625 55.859375 54.25 \nQ 51.125 60.59375 42.484375 60.59375 \nz\n\" id=\"DejaVuSans-Bold-81\"/>\n     <path d=\"M 27.484375 70.21875 \nL 27.484375 54.6875 \nL 45.515625 54.6875 \nL 45.515625 42.1875 \nL 27.484375 42.1875 \nL 27.484375 19 \nQ 27.484375 15.1875 29 13.84375 \nQ 30.515625 12.5 35.015625 12.5 \nL 44 12.5 \nL 44 0 \nL 29 0 \nQ 18.65625 0 14.328125 4.3125 \nQ 10.015625 8.640625 10.015625 19 \nL 10.015625 42.1875 \nL 1.3125 42.1875 \nL 1.3125 54.6875 \nL 10.015625 54.6875 \nL 10.015625 70.21875 \nz\n\" id=\"DejaVuSans-Bold-116\"/>\n     <path d=\"M 45.609375 46.6875 \nL 45.609375 75.984375 \nL 63.1875 75.984375 \nL 63.1875 0 \nL 45.609375 0 \nL 45.609375 7.90625 \nQ 42 3.078125 37.640625 0.828125 \nQ 33.296875 -1.421875 27.59375 -1.421875 \nQ 17.484375 -1.421875 10.984375 6.609375 \nQ 4.5 14.65625 4.5 27.296875 \nQ 4.5 39.9375 10.984375 47.96875 \nQ 17.484375 56 27.59375 56 \nQ 33.25 56 37.625 53.734375 \nQ 42 51.46875 45.609375 46.6875 \nz\nM 34.078125 11.28125 \nQ 39.703125 11.28125 42.65625 15.375 \nQ 45.609375 19.484375 45.609375 27.296875 \nQ 45.609375 35.109375 42.65625 39.203125 \nQ 39.703125 43.3125 34.078125 43.3125 \nQ 28.515625 43.3125 25.5625 39.203125 \nQ 22.609375 35.109375 22.609375 27.296875 \nQ 22.609375 19.484375 25.5625 15.375 \nQ 28.515625 11.28125 34.078125 11.28125 \nz\n\" id=\"DejaVuSans-Bold-100\"/>\n     <path d=\"M 10.203125 18.890625 \nL 27.78125 18.890625 \nL 27.78125 0 \nL 10.203125 0 \nz\n\" id=\"DejaVuSans-Bold-46\"/>\n     <path id=\"DejaVuSans-Bold-32\"/>\n     <path d=\"M 62.984375 27.484375 \nL 62.984375 22.515625 \nL 22.125 22.515625 \nQ 22.75 16.359375 26.5625 13.28125 \nQ 30.375 10.203125 37.203125 10.203125 \nQ 42.71875 10.203125 48.5 11.84375 \nQ 54.296875 13.484375 60.40625 16.796875 \nL 60.40625 3.328125 \nQ 54.203125 0.984375 48 -0.21875 \nQ 41.796875 -1.421875 35.59375 -1.421875 \nQ 20.75 -1.421875 12.515625 6.125 \nQ 4.296875 13.671875 4.296875 27.296875 \nQ 4.296875 40.671875 12.375 48.328125 \nQ 20.453125 56 34.625 56 \nQ 47.515625 56 55.25 48.234375 \nQ 62.984375 40.484375 62.984375 27.484375 \nz\nM 45.015625 33.296875 \nQ 45.015625 38.28125 42.109375 41.328125 \nQ 39.203125 44.390625 34.515625 44.390625 \nQ 29.4375 44.390625 26.265625 41.53125 \nQ 23.09375 38.671875 22.3125 33.296875 \nz\n\" id=\"DejaVuSans-Bold-101\"/>\n     <path d=\"M 52.59375 52.984375 \nL 52.59375 38.71875 \nQ 49.03125 41.15625 45.4375 42.328125 \nQ 41.84375 43.5 37.984375 43.5 \nQ 30.671875 43.5 26.59375 39.234375 \nQ 22.515625 34.96875 22.515625 27.296875 \nQ 22.515625 19.625 26.59375 15.34375 \nQ 30.671875 11.078125 37.984375 11.078125 \nQ 42.09375 11.078125 45.78125 12.296875 \nQ 49.46875 13.53125 52.59375 15.921875 \nL 52.59375 1.609375 \nQ 48.484375 0.09375 44.265625 -0.65625 \nQ 40.046875 -1.421875 35.796875 -1.421875 \nQ 21 -1.421875 12.640625 6.171875 \nQ 4.296875 13.765625 4.296875 27.296875 \nQ 4.296875 40.828125 12.640625 48.40625 \nQ 21 56 35.796875 56 \nQ 40.09375 56 44.265625 55.25 \nQ 48.4375 54.5 52.59375 52.984375 \nz\n\" id=\"DejaVuSans-Bold-99\"/>\n     <path d=\"M 63.375 33.296875 \nL 63.375 0 \nL 45.796875 0 \nL 45.796875 5.421875 \nL 45.796875 25.390625 \nQ 45.796875 32.5625 45.484375 35.25 \nQ 45.171875 37.9375 44.390625 39.203125 \nQ 43.359375 40.921875 41.59375 41.875 \nQ 39.84375 42.828125 37.59375 42.828125 \nQ 32.125 42.828125 29 38.59375 \nQ 25.875 34.375 25.875 26.90625 \nL 25.875 0 \nL 8.40625 0 \nL 8.40625 75.984375 \nL 25.875 75.984375 \nL 25.875 46.6875 \nQ 29.828125 51.46875 34.265625 53.734375 \nQ 38.71875 56 44.09375 56 \nQ 53.5625 56 58.46875 50.1875 \nQ 63.375 44.390625 63.375 33.296875 \nz\n\" id=\"DejaVuSans-Bold-104\"/>\n     <path d=\"M 32.90625 24.609375 \nQ 27.4375 24.609375 24.671875 22.75 \nQ 21.921875 20.90625 21.921875 17.28125 \nQ 21.921875 13.96875 24.140625 12.078125 \nQ 26.375 10.203125 30.328125 10.203125 \nQ 35.25 10.203125 38.625 13.734375 \nQ 42 17.28125 42 22.609375 \nL 42 24.609375 \nz\nM 59.625 31.203125 \nL 59.625 0 \nL 42 0 \nL 42 8.109375 \nQ 38.484375 3.125 34.078125 0.84375 \nQ 29.6875 -1.421875 23.390625 -1.421875 \nQ 14.890625 -1.421875 9.59375 3.53125 \nQ 4.296875 8.5 4.296875 16.40625 \nQ 4.296875 26.03125 10.90625 30.515625 \nQ 17.53125 35.015625 31.6875 35.015625 \nL 42 35.015625 \nL 42 36.375 \nQ 42 40.53125 38.71875 42.453125 \nQ 35.453125 44.390625 28.515625 44.390625 \nQ 22.90625 44.390625 18.0625 43.265625 \nQ 13.234375 42.140625 9.078125 39.890625 \nL 9.078125 53.21875 \nQ 14.703125 54.59375 20.359375 55.296875 \nQ 26.03125 56 31.6875 56 \nQ 46.484375 56 53.046875 50.171875 \nQ 59.625 44.34375 59.625 31.203125 \nz\n\" id=\"DejaVuSans-Bold-97\"/>\n     <path d=\"M 59.078125 45.609375 \nQ 62.40625 50.6875 66.96875 53.34375 \nQ 71.53125 56 77 56 \nQ 86.421875 56 91.359375 50.1875 \nQ 96.296875 44.390625 96.296875 33.296875 \nL 96.296875 0 \nL 78.71875 0 \nL 78.71875 28.515625 \nQ 78.765625 29.15625 78.78125 29.828125 \nQ 78.8125 30.515625 78.8125 31.78125 \nQ 78.8125 37.59375 77.09375 40.203125 \nQ 75.390625 42.828125 71.578125 42.828125 \nQ 66.609375 42.828125 63.890625 38.71875 \nQ 61.1875 34.625 61.078125 26.859375 \nL 61.078125 0 \nL 43.5 0 \nL 43.5 28.515625 \nQ 43.5 37.59375 41.9375 40.203125 \nQ 40.375 42.828125 36.375 42.828125 \nQ 31.34375 42.828125 28.609375 38.703125 \nQ 25.875 34.578125 25.875 26.90625 \nL 25.875 0 \nL 8.296875 0 \nL 8.296875 54.6875 \nL 25.875 54.6875 \nL 25.875 46.6875 \nQ 29.109375 51.3125 33.28125 53.65625 \nQ 37.453125 56 42.484375 56 \nQ 48.140625 56 52.484375 53.265625 \nQ 56.84375 50.53125 59.078125 45.609375 \nz\n\" id=\"DejaVuSans-Bold-109\"/>\n     <path d=\"M 51.125 52.984375 \nL 51.125 39.703125 \nQ 45.515625 42.046875 40.28125 43.21875 \nQ 35.0625 44.390625 30.421875 44.390625 \nQ 25.4375 44.390625 23.015625 43.140625 \nQ 20.609375 41.890625 20.609375 39.3125 \nQ 20.609375 37.203125 22.4375 36.078125 \nQ 24.265625 34.96875 29 34.421875 \nL 32.078125 33.984375 \nQ 45.515625 32.28125 50.140625 28.375 \nQ 54.78125 24.46875 54.78125 16.109375 \nQ 54.78125 7.375 48.328125 2.96875 \nQ 41.890625 -1.421875 29.109375 -1.421875 \nQ 23.6875 -1.421875 17.890625 -0.5625 \nQ 12.109375 0.296875 6 2 \nL 6 15.28125 \nQ 11.234375 12.75 16.71875 11.46875 \nQ 22.21875 10.203125 27.875 10.203125 \nQ 33.015625 10.203125 35.59375 11.609375 \nQ 38.1875 13.03125 38.1875 15.828125 \nQ 38.1875 18.171875 36.40625 19.3125 \nQ 34.625 20.453125 29.296875 21.09375 \nL 26.21875 21.484375 \nQ 14.546875 22.953125 9.859375 26.90625 \nQ 5.171875 30.859375 5.171875 38.921875 \nQ 5.171875 47.609375 11.125 51.796875 \nQ 17.09375 56 29.390625 56 \nQ 34.234375 56 39.546875 55.265625 \nQ 44.875 54.546875 51.125 52.984375 \nz\n\" id=\"DejaVuSans-Bold-115\"/>\n     <path d=\"M 53.421875 13.28125 \nL 24.03125 13.28125 \nL 19.390625 0 \nL 0.484375 0 \nL 27.484375 72.90625 \nL 49.90625 72.90625 \nL 76.90625 0 \nL 58.015625 0 \nz\nM 28.71875 26.8125 \nL 48.6875 26.8125 \nL 38.71875 55.8125 \nz\n\" id=\"DejaVuSans-Bold-65\"/>\n     <path d=\"M 9.1875 72.90625 \nL 40.375 72.90625 \nQ 54.296875 72.90625 61.734375 66.71875 \nQ 69.1875 60.546875 69.1875 49.125 \nQ 69.1875 37.640625 61.734375 31.46875 \nQ 54.296875 25.296875 40.375 25.296875 \nL 27.984375 25.296875 \nL 27.984375 0 \nL 9.1875 0 \nz\nM 27.984375 59.28125 \nL 27.984375 38.921875 \nL 38.375 38.921875 \nQ 43.84375 38.921875 46.828125 41.578125 \nQ 49.8125 44.234375 49.8125 49.125 \nQ 49.8125 54 46.828125 56.640625 \nQ 43.84375 59.28125 38.375 59.28125 \nz\n\" id=\"DejaVuSans-Bold-80\"/>\n     <path d=\"M 9.1875 72.90625 \nL 27.984375 72.90625 \nL 27.984375 0 \nL 9.1875 0 \nz\n\" id=\"DejaVuSans-Bold-73\"/>\n     <path d=\"M 11.1875 54.6875 \nL 28.8125 54.6875 \nL 28.8125 35.796875 \nL 11.1875 35.796875 \nz\nM 11.1875 18.890625 \nL 28.8125 18.890625 \nL 28.8125 0 \nL 11.1875 0 \nz\n\" id=\"DejaVuSans-Bold-58\"/>\n    </defs>\n    <g transform=\"translate(59.862656 243.343352)scale(0.22 -0.22)\">\n     <use xlink:href=\"#DejaVuSans-Bold-81\"/>\n     <use x=\"85.009766\" xlink:href=\"#DejaVuSans-Bold-116\"/>\n     <use x=\"132.8125\" xlink:href=\"#DejaVuSans-Bold-100\"/>\n     <use x=\"204.394531\" xlink:href=\"#DejaVuSans-Bold-46\"/>\n     <use x=\"242.382812\" xlink:href=\"#DejaVuSans-Bold-32\"/>\n     <use x=\"277.197266\" xlink:href=\"#DejaVuSans-Bold-100\"/>\n     <use x=\"348.779297\" xlink:href=\"#DejaVuSans-Bold-101\"/>\n     <use x=\"416.601562\" xlink:href=\"#DejaVuSans-Bold-32\"/>\n     <use x=\"451.416016\" xlink:href=\"#DejaVuSans-Bold-99\"/>\n     <use x=\"510.693359\" xlink:href=\"#DejaVuSans-Bold-104\"/>\n     <use x=\"581.884766\" xlink:href=\"#DejaVuSans-Bold-97\"/>\n     <use x=\"649.365234\" xlink:href=\"#DejaVuSans-Bold-109\"/>\n     <use x=\"753.564453\" xlink:href=\"#DejaVuSans-Bold-97\"/>\n     <use x=\"821.044922\" xlink:href=\"#DejaVuSans-Bold-100\"/>\n     <use x=\"892.626953\" xlink:href=\"#DejaVuSans-Bold-97\"/>\n     <use x=\"960.107422\" xlink:href=\"#DejaVuSans-Bold-115\"/>\n     <use x=\"1019.628906\" xlink:href=\"#DejaVuSans-Bold-32\"/>\n     <use x=\"1054.443359\" xlink:href=\"#DejaVuSans-Bold-65\"/>\n     <use x=\"1131.835938\" xlink:href=\"#DejaVuSans-Bold-80\"/>\n     <use x=\"1205.126953\" xlink:href=\"#DejaVuSans-Bold-73\"/>\n     <use x=\"1242.333984\" xlink:href=\"#DejaVuSans-Bold-58\"/>\n     <use x=\"1282.324219\" xlink:href=\"#DejaVuSans-Bold-32\"/>\n     <use x=\"1317.138672\" xlink:href=\"#DejaVuSans-Bold-50\"/>\n    </g>\n   </g>\n   <g id=\"patch_15\">\n    <path clip-path=\"url(#pb4c4a29d6a)\" d=\"M 212.4 217.898182 \nC 213.685219 217.898182 214.917972 217.387826 215.82676 216.479514 \nC 216.735547 215.571201 217.24617 214.339093 217.24617 213.054545 \nC 217.24617 211.769998 216.735547 210.537889 215.82676 209.629577 \nC 214.917972 208.721265 213.685219 208.210909 212.4 208.210909 \nC 211.114781 208.210909 209.882028 208.721265 208.97324 209.629577 \nC 208.064453 210.537889 207.55383 211.769998 207.55383 213.054545 \nC 207.55383 214.339093 208.064453 215.571201 208.97324 216.479514 \nC 209.882028 217.387826 211.114781 217.898182 212.4 217.898182 \nz\n\" style=\"fill:#ffffff;\"/>\n   </g>\n  </g>\n </g>\n <defs>\n  <clipPath id=\"pb4c4a29d6a\">\n   <rect height=\"266.4\" width=\"410.4\" x=\"7.2\" y=\"7.2\"/>\n  </clipPath>\n </defs>\n</svg>\n",
      "image/png": "[encoded data removed]"
     },
     "metadata": {}
    }
   ],
   "source": [
    "gauge(labels=['500','1000','1500','2000','2500'], \\\n",
    "      colors=['#007A00','#0063BF','#FFCC00','#ED5b1D','#ED1C24'], arrow= to_arrow(), title='Qtd. de chamadas API: ' + str(result_arrow) )"
   ]
  }
 ],
 "metadata": {
  "kernelspec": {
   "display_name": "Python 3",
   "language": "python",
   "name": "python3"
  },
  "language_info": {
   "codemirror_mode": {
    "name": "ipython",
    "version": 3
   },
   "file_extension": ".py",
   "mimetype": "text/x-python",
   "name": "python",
   "nbconvert_exporter": "python",
   "pygments_lexer": "ipython3",
   "version": "3.8.3-final"
  }
 },
 "nbformat": 4,
 "nbformat_minor": 4
}